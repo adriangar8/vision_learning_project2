{
 "cells": [
  {
   "cell_type": "markdown",
   "metadata": {},
   "source": [
    "# **Aggregation function**\n",
    "\n"
   ]
  },
  {
   "cell_type": "markdown",
   "metadata": {},
   "source": [
    "Import necessary functions"
   ]
  },
  {
   "cell_type": "code",
   "execution_count": 1,
   "metadata": {},
   "outputs": [],
   "source": [
    "# Load libraries\n",
    "\n",
    "import torch\n",
    "import numpy as np\n",
    "from torchvision import models\n",
    "import glob # for listing files in the directory, asemejan un patrón especificado de acuerdo con las reglas de coincidencia de Unix\n",
    "import torch.nn as nn\n",
    "from torch.utils.data import Dataset, DataLoader\n",
    "from sklearn.metrics import confusion_matrix\n",
    "from sklearn.metrics import ConfusionMatrixDisplay\n",
    "from sklearn.linear_model import LogisticRegression\n",
    "from sklearn.preprocessing import StandardScaler\n",
    "from sklearn.model_selection import train_test_split\n",
    "from sklearn.metrics import accuracy_score\n",
    "from sklearn.model_selection import KFold\n",
    "from sklearn.svm import SVC\n",
    "import seaborn as sns\n",
    "from sklearn.metrics import roc_curve, auc\n",
    "from sklearn.model_selection import train_test_split\n",
    "from torch.optim import Adam\n",
    "from torch.autograd import Variable\n",
    "from torch.utils.data import random_split\n",
    "from torchvision import transforms\n",
    "from multiprocessing import Pool\n",
    "import matplotlib.pyplot as plt\n",
    "from PIL import Image\n",
    "import pandas as pd\n",
    "import random\n",
    "import cv2\n",
    "import pathlib\n",
    "import os"
   ]
  },
  {
   "cell_type": "code",
   "execution_count": 2,
   "metadata": {},
   "outputs": [
    {
     "name": "stdout",
     "output_type": "stream",
     "text": [
      "cuda\n"
     ]
    }
   ],
   "source": [
    "torch.cuda.empty_cache()\n",
    "\n",
    "# Check for device\n",
    "device = torch.device(\"cuda\" if torch.cuda.is_available() else \"cpu\")\n",
    "\n",
    "print(device) # If gpu is available, cuda will be printed"
   ]
  },
  {
   "cell_type": "markdown",
   "metadata": {},
   "source": [
    "Define the architectures used for each model"
   ]
  },
  {
   "cell_type": "code",
   "execution_count": 3,
   "metadata": {},
   "outputs": [],
   "source": [
    "# Convoloitional neural network\n",
    "class ConvNet(nn.Module):\n",
    "\n",
    "    def __init__(self, num_classes = 2):\n",
    "        super(ConvNet, self).__init__()\n",
    "\n",
    "        \"\"\" \n",
    "\n",
    "        Output size after convolutional filter:\n",
    "        ((input_size - kernel + 2 * padding)/ stride) + 1\n",
    "        \n",
    "        \"\"\"\n",
    "\n",
    "        # Input shape = (3, 224, 224)\n",
    "        self.conv1 = nn.Conv2d(in_channels=3, out_channels=16, kernel_size=3, stride=1, padding=1)\n",
    "        # Shape = (16, 224, 224) -- Same shape as input, but more channels\n",
    "        # Add batch normalization\n",
    "        self.bn1 = nn.BatchNorm2d(num_features=16) # Shape = (16, 224, 224)\n",
    "        # Add activation function\n",
    "        self.relu1 = nn.ReLU() # Shape = (16, 224, 224)\n",
    "        # Max pool 1, reuduce the image size be factor 2\n",
    "        self.pool1 = nn.MaxPool2d(kernel_size=2) # Shape = (16, 112, 112)\n",
    "\n",
    "        # Add second convolutional layer\n",
    "        self.conv2 = nn.Conv2d(in_channels=16, out_channels=32, kernel_size=3, stride=1, padding=1)\n",
    "        # Shape = (32, 112, 112)\n",
    "        # Add activation function\n",
    "        self.relu2 = nn.ReLU() # Shape = (32, 112, 112)\n",
    "\n",
    "        # Add third convolutional layer\n",
    "        self.conv3 = nn.Conv2d(in_channels=32, out_channels=64, kernel_size=3, stride=1, padding=1) # Shape = (64, 112, 112)\n",
    "        # Add batch normalization\n",
    "        self.bn3 = nn.BatchNorm2d(num_features=64) # Shape = (64, 112, 112)\n",
    "        # Add activation function\n",
    "        self.relu3 = nn.ReLU() # Shape = (64, 112, 112)\n",
    "\n",
    "        # Linear layer (64 * 112 * 112 -> 2)\n",
    "        self.fc = nn.Linear(in_features=64 * 112 * 112, out_features=num_classes)\n",
    "\n",
    "    # Feed forward function\n",
    "    def forward(self, input):\n",
    "        # Convolutional layer\n",
    "        output = self.conv1(input)\n",
    "        # Batch normalization\n",
    "        output = self.bn1(output)\n",
    "        # Activation function\n",
    "        output = self.relu1(output)\n",
    "        # Max pool\n",
    "        output = self.pool1(output)\n",
    "\n",
    "        # Convolutional layer\n",
    "        output = self.conv2(output)\n",
    "        # Activation function\n",
    "        output = self.relu2(output)\n",
    "\n",
    "        # Convolutional layer\n",
    "        output = self.conv3(output)\n",
    "        # Batch normalization\n",
    "        output = self.bn3(output)\n",
    "        # Activation function\n",
    "        output = self.relu3(output)\n",
    "\n",
    "        # Above output will be in matrix form with shape (64, 112, 112)\n",
    "\n",
    "        # Flatten\n",
    "        output = output.view(-1, 64 * 112 * 112)\n",
    "\n",
    "        # Linear layer (output -> 2)\n",
    "        output = self.fc(output)\n",
    "\n",
    "        return output   "
   ]
  },
  {
   "cell_type": "code",
   "execution_count": 4,
   "metadata": {},
   "outputs": [],
   "source": [
    "class AutoEncoderHPyloris(nn.Module):\n",
    "    def __init__(self):\n",
    "        super(AutoEncoderHPyloris, self).__init__()\n",
    "        \n",
    "        \"\"\"\n",
    "        The proposed autoencoder has 3 convolutional blocks with one convolutional layer,\n",
    "        batch normalization and leakyrelu activation each. The size of the convolutional\n",
    "        kernel is 3 and the number of neurons and stride of each layer are, respectively,\n",
    "        [32,64,64] and [1,2,2].\n",
    "        \"\"\"\n",
    "        \n",
    "        self.encoder =  nn.Sequential(\n",
    "                        nn.Conv2d(3, 32, kernel_size=3, stride=1, padding=1),  # Convolutional Layer 1\n",
    "                        nn.BatchNorm2d(32),  # Batch Normalization 1\n",
    "                        nn.LeakyReLU(0.2, inplace=True),  # LeakyReLU Activation 1\n",
    "                       \n",
    "                        nn.Conv2d(32, 64, kernel_size=3, stride=2, padding=1),  # Convolutional Layer 2\n",
    "                        nn.BatchNorm2d(64),  # Batch Normalization 2\n",
    "                        nn.LeakyReLU(0.2, inplace=True),  # LeakyReLU Activation 2\n",
    "\n",
    "                        nn.Conv2d(64, 128, kernel_size=3, stride=2, padding=1),  # Convolutional Layer 3\n",
    "                        nn.BatchNorm2d(128),  # Batch Normalization 3\n",
    "                        nn.LeakyReLU(0.2, inplace=True),  # LeakyReLU Activation 3\n",
    "                        \n",
    "                        nn.Conv2d(128, 256, kernel_size=3, stride=2, padding=1),  # Convolutional Layer 3\n",
    "                        nn.BatchNorm2d(256),  # Batch Normalization 3\n",
    "                        nn.LeakyReLU(0.2, inplace=True),  # LeakyReLU Activation 3\n",
    "                        \n",
    "                        nn.Conv2d(256, 256, kernel_size=3, stride=2, padding=1),  # Convolutional Layer 3\n",
    "                        nn.BatchNorm2d(256),  # Batch Normalization 3\n",
    "                        nn.LeakyReLU(0.2, inplace=True)  # LeakyReLU Activation 3\n",
    "        )\n",
    "        \n",
    "        self.decoder =  nn.Sequential(\n",
    "                        nn.ConvTranspose2d(256, 256, kernel_size=3, stride=2, padding=1, output_padding=1),\n",
    "                        nn.BatchNorm2d(256),\n",
    "                        nn.LeakyReLU(0.2, inplace=True),\n",
    "            \n",
    "                        nn.ConvTranspose2d(256, 128, kernel_size=3, stride=2, padding=1, output_padding=1),\n",
    "                        nn.BatchNorm2d(128),\n",
    "                        nn.LeakyReLU(0.2, inplace=True),\n",
    "                        \n",
    "                        nn.ConvTranspose2d(128, 64, kernel_size=3, stride=2, padding=1, output_padding=1),\n",
    "                        nn.BatchNorm2d(64),\n",
    "                        nn.LeakyReLU(0.2, inplace=True),\n",
    "                        \n",
    "                        nn.ConvTranspose2d(64, 32, kernel_size=3, stride=2, padding=1, output_padding=1),\n",
    "                        nn.BatchNorm2d(32),\n",
    "                        nn.LeakyReLU(0.2, inplace=True),\n",
    "                        \n",
    "                        nn.ConvTranspose2d(32, 3, kernel_size=3, stride=1, padding=1),\n",
    "                        nn.LeakyReLU(0.2, inplace=True)\n",
    "        )\n",
    "        \n",
    "    def forward(self, image):\n",
    "        encoded_img = self.encoder(image)\n",
    "        decoded_img = self.decoder(encoded_img)\n",
    "        return decoded_img"
   ]
  },
  {
   "cell_type": "code",
   "execution_count": 5,
   "metadata": {},
   "outputs": [
    {
     "name": "stderr",
     "output_type": "stream",
     "text": [
      "/fhome/gia01/anaconda3/lib/python3.7/site-packages/torchvision/models/_utils.py:209: UserWarning: The parameter 'pretrained' is deprecated since 0.13 and may be removed in the future, please use 'weights' instead.\n",
      "  f\"The parameter '{pretrained_param}' is deprecated since 0.13 and may be removed in the future, \"\n",
      "/fhome/gia01/anaconda3/lib/python3.7/site-packages/torchvision/models/_utils.py:223: UserWarning: Arguments other than a weight enum or `None` for 'weights' are deprecated since 0.13 and may be removed in the future. The current behavior is equivalent to passing `weights=VGG16_Weights.IMAGENET1K_V1`. You can also use `weights=VGG16_Weights.DEFAULT` to get the most up-to-date weights.\n",
      "  warnings.warn(msg)\n"
     ]
    }
   ],
   "source": [
    "modelVGG = models.vgg16(pretrained=True) # VGG model"
   ]
  },
  {
   "cell_type": "code",
   "execution_count": 32,
   "metadata": {},
   "outputs": [],
   "source": [
    "def predict_patch(model, image, transform, inverse_transform, threshold=0.25, device='cpu'):\n",
    "    \"\"\"\n",
    "    Inputs:\n",
    "        MODEL: AutoEncoder model, given an input image, returns the reconstructed image\n",
    "        IMAGE: a 3 channel image that will be reconstructed\n",
    "        TRANSFORM: transforms that will be applied to input image\n",
    "        INVERSE_TRANSFORM: transforms that will be applied to reconstructed image\n",
    "        THRESHOLD (default=0.25): the threshold that will classify the patch\n",
    "        DEVICE (default='cpu'): device where the model will be loaded (cpu or cuda)\n",
    "    Outputs:\n",
    "        INFECTION: 0 if no infection, 1 if infection\n",
    "    \"\"\"\n",
    "\n",
    "    if image.mode == 'RGBA':\n",
    "        image = image.convert('RGB')\n",
    "\n",
    "    # Apply the transformations to convert the PIL image to a PyTorch tensor\n",
    "    image_tensor = transform(image).unsqueeze(0)\n",
    "    \n",
    "    # Move the tensor to the specified device\n",
    "    image_tensor = image_tensor.to(device)\n",
    "    \n",
    "    model.eval()\n",
    "    with torch.no_grad():\n",
    "        model.to(device)\n",
    "        #original = transform(image).unsqueeze(0)\n",
    "        #original.to(device)\n",
    "        reconstructed_image = inverse_transform(model(image_tensor).squeeze(0))\n",
    "\n",
    "        hsv_original_image = cv2.cvtColor(np.array(image), cv2.COLOR_RGB2HSV)\n",
    "        red_pixels_original = np.sum(np.logical_or((hsv_original_image[:, :, 0] < 20) & (hsv_original_image[:, :, 0] >= 0),\n",
    "                                            (hsv_original_image[:, :, 0] > 160) & (hsv_original_image[:, :, 0] <= 180)))\n",
    "        percentage_original = 100 * (red_pixels_original / (224 * 224))\n",
    "        \n",
    "        hsv_reconstructed_image = cv2.cvtColor(np.array(reconstructed_image), cv2.COLOR_RGB2HSV)\n",
    "        red_pixels_reconstructed = np.sum(np.logical_or((hsv_reconstructed_image[:, :, 0] < 20) & (hsv_reconstructed_image[:, :, 0] >= 0), \n",
    "                                                        (hsv_reconstructed_image[:, :, 0] > 160) & (hsv_reconstructed_image[:, :, 0] <= 180)))\n",
    "        percentage_reconstructed = 100 * (red_pixels_reconstructed / (224 * 224))\n",
    "        \n",
    "        lost_pixels_ratio = percentage_original-percentage_reconstructed\n",
    "        \n",
    "        if lost_pixels_ratio >= threshold:\n",
    "            return 1\n",
    "        else:\n",
    "            return 0"
   ]
  },
  {
   "cell_type": "code",
   "execution_count": 7,
   "metadata": {},
   "outputs": [],
   "source": [
    "inverse_transform = transforms.Compose([transforms.Normalize(mean=[-0.485/0.229, -0.456/0.224, -0.406/0.225], \n",
    "                                                                std=[1/0.229, 1/0.224, 1/0.225]), \n",
    "                                        transforms.ToPILImage()])"
   ]
  },
  {
   "cell_type": "markdown",
   "metadata": {},
   "source": [
    "Get the train set for the ensemble method training"
   ]
  },
  {
   "cell_type": "code",
   "execution_count": 21,
   "metadata": {},
   "outputs": [
    {
     "name": "stdout",
     "output_type": "stream",
     "text": [
      "{'INFECTED': {'B22-65': '/fhome/mapsiv/QuironHelico/CroppedPatches/B22-65_1/', 'B22-222': '/fhome/mapsiv/QuironHelico/CroppedPatches/B22-222_1/', 'B22-130': '/fhome/mapsiv/QuironHelico/CroppedPatches/B22-130_1/', 'B22-225': '/fhome/mapsiv/QuironHelico/CroppedPatches/B22-225_1/', 'B22-263': '/fhome/mapsiv/QuironHelico/CroppedPatches/B22-263_1/'}, 'NOT_INFECTED': {'B22-282': '/fhome/mapsiv/QuironHelico/CroppedPatches/B22-282_1/', 'B22-168': '/fhome/mapsiv/QuironHelico/CroppedPatches/B22-168_1/', 'B22-227': '/fhome/mapsiv/QuironHelico/CroppedPatches/B22-227_1/', 'B22-111': '/fhome/mapsiv/QuironHelico/CroppedPatches/B22-111_1/', 'B22-189': '/fhome/mapsiv/QuironHelico/CroppedPatches/B22-189_1/'}}\n"
     ]
    }
   ],
   "source": [
    "# Initialize the dictionary to store the data\n",
    "train_dict = {'INFECTED': {}, 'NOT_INFECTED': {}}\n",
    "\n",
    "# Read the file line by line\n",
    "with open('/fhome/gia01/vl_project2/autoencoder/txt files/train_thresholds.txt', 'r') as file:\n",
    "    for line in file:\n",
    "        # Strip any whitespace and split the line by comma\n",
    "        parts = line.strip().split(',')\n",
    "        # Assign the parts to variables for clarity\n",
    "        sample_id, path, status = parts[0], parts[1], int(parts[2])\n",
    "        # Depending on the status, add the entry to the respective dictionary key\n",
    "        if status == 1:\n",
    "            train_dict['INFECTED'][sample_id] = path\n",
    "        else:\n",
    "            train_dict['NOT_INFECTED'][sample_id] = path\n",
    "\n",
    "# Now data_dict is populated with the data in the format you wanted.\n",
    "print(train_dict)"
   ]
  },
  {
   "cell_type": "markdown",
   "metadata": {},
   "source": [
    "Get the test set for the final prediction"
   ]
  },
  {
   "cell_type": "code",
   "execution_count": 22,
   "metadata": {},
   "outputs": [
    {
     "name": "stdout",
     "output_type": "stream",
     "text": [
      "{'INFECTED': {'B22-272': '/fhome/mapsiv/QuironHelico/CroppedPatches/B22-272_1/', 'B22-286': '/fhome/mapsiv/QuironHelico/CroppedPatches/B22-286_1/', 'B22-293': '/fhome/mapsiv/QuironHelico/CroppedPatches/B22-293_1/', 'B22-294': '/fhome/mapsiv/QuironHelico/CroppedPatches/B22-294_1/', 'B22-295': '/fhome/mapsiv/QuironHelico/CroppedPatches/B22-295_1/'}, 'NOT_INFECTED': {'B22-28': '/fhome/mapsiv/QuironHelico/CroppedPatches/B22-28_1/', 'B22-34': '/fhome/mapsiv/QuironHelico/CroppedPatches/B22-34_1/', 'B22-53': '/fhome/mapsiv/QuironHelico/CroppedPatches/B22-53_1/', 'B22-87': '/fhome/mapsiv/QuironHelico/CroppedPatches/B22-87_1/', 'B22-112': '/fhome/mapsiv/QuironHelico/CroppedPatches/B22-112_1/'}}\n"
     ]
    }
   ],
   "source": [
    "# Initialize the dictionary to store the data\n",
    "test_dict = {'INFECTED': {}, 'NOT_INFECTED': {}}\n",
    "\n",
    "# Read the file line by line\n",
    "with open('/fhome/gia01/vl_project2/autoencoder/txt files/test_aggregate.txt', 'r') as file:\n",
    "    for line in file:\n",
    "        # Strip any whitespace and split the line by comma\n",
    "        parts = line.strip().split(',')\n",
    "        # Assign the parts to variables for clarity\n",
    "        sample_id, path, status = parts[0], parts[1], int(parts[2])\n",
    "        # Depending on the status, add the entry to the respective dictionary key\n",
    "        if status == 1:\n",
    "            test_dict['INFECTED'][sample_id] = path\n",
    "        else:\n",
    "            test_dict['NOT_INFECTED'][sample_id] = path\n",
    "\n",
    "# Now data_dict is populated with the data in the format you wanted.\n",
    "print(test_dict)"
   ]
  },
  {
   "cell_type": "markdown",
   "metadata": {},
   "source": [
    "*Load the three models used for the diagnosis: CNN, AE, VGG*"
   ]
  },
  {
   "cell_type": "code",
   "execution_count": 10,
   "metadata": {},
   "outputs": [
    {
     "data": {
      "text/plain": [
       "VGG(\n",
       "  (features): Sequential(\n",
       "    (0): Conv2d(3, 64, kernel_size=(3, 3), stride=(1, 1), padding=(1, 1))\n",
       "    (1): ReLU(inplace=True)\n",
       "    (2): Conv2d(64, 64, kernel_size=(3, 3), stride=(1, 1), padding=(1, 1))\n",
       "    (3): ReLU(inplace=True)\n",
       "    (4): MaxPool2d(kernel_size=2, stride=2, padding=0, dilation=1, ceil_mode=False)\n",
       "    (5): Conv2d(64, 128, kernel_size=(3, 3), stride=(1, 1), padding=(1, 1))\n",
       "    (6): ReLU(inplace=True)\n",
       "    (7): Conv2d(128, 128, kernel_size=(3, 3), stride=(1, 1), padding=(1, 1))\n",
       "    (8): ReLU(inplace=True)\n",
       "    (9): MaxPool2d(kernel_size=2, stride=2, padding=0, dilation=1, ceil_mode=False)\n",
       "    (10): Conv2d(128, 256, kernel_size=(3, 3), stride=(1, 1), padding=(1, 1))\n",
       "    (11): ReLU(inplace=True)\n",
       "    (12): Conv2d(256, 256, kernel_size=(3, 3), stride=(1, 1), padding=(1, 1))\n",
       "    (13): ReLU(inplace=True)\n",
       "    (14): Conv2d(256, 256, kernel_size=(3, 3), stride=(1, 1), padding=(1, 1))\n",
       "    (15): ReLU(inplace=True)\n",
       "    (16): MaxPool2d(kernel_size=2, stride=2, padding=0, dilation=1, ceil_mode=False)\n",
       "    (17): Conv2d(256, 512, kernel_size=(3, 3), stride=(1, 1), padding=(1, 1))\n",
       "    (18): ReLU(inplace=True)\n",
       "    (19): Conv2d(512, 512, kernel_size=(3, 3), stride=(1, 1), padding=(1, 1))\n",
       "    (20): ReLU(inplace=True)\n",
       "    (21): Conv2d(512, 512, kernel_size=(3, 3), stride=(1, 1), padding=(1, 1))\n",
       "    (22): ReLU(inplace=True)\n",
       "    (23): MaxPool2d(kernel_size=2, stride=2, padding=0, dilation=1, ceil_mode=False)\n",
       "    (24): Conv2d(512, 512, kernel_size=(3, 3), stride=(1, 1), padding=(1, 1))\n",
       "    (25): ReLU(inplace=True)\n",
       "    (26): Conv2d(512, 512, kernel_size=(3, 3), stride=(1, 1), padding=(1, 1))\n",
       "    (27): ReLU(inplace=True)\n",
       "    (28): Conv2d(512, 512, kernel_size=(3, 3), stride=(1, 1), padding=(1, 1))\n",
       "    (29): ReLU(inplace=True)\n",
       "    (30): MaxPool2d(kernel_size=2, stride=2, padding=0, dilation=1, ceil_mode=False)\n",
       "  )\n",
       "  (avgpool): AdaptiveAvgPool2d(output_size=(7, 7))\n",
       "  (classifier): Sequential(\n",
       "    (0): Linear(in_features=25088, out_features=4096, bias=True)\n",
       "    (1): ReLU(inplace=True)\n",
       "    (2): Dropout(p=0.5, inplace=False)\n",
       "    (3): Linear(in_features=4096, out_features=4096, bias=True)\n",
       "    (4): ReLU(inplace=True)\n",
       "    (5): Dropout(p=0.5, inplace=False)\n",
       "    (6): Linear(in_features=4096, out_features=2, bias=True)\n",
       "  )\n",
       ")"
      ]
     },
     "execution_count": 10,
     "metadata": {},
     "output_type": "execute_result"
    }
   ],
   "source": [
    "import pickle\n",
    "\n",
    "# Load the checkpoint for the CNN model\n",
    "checkpointCNN = torch.load(\"best_checkpoint1.model\")\n",
    "\n",
    "# Instantiate the CNN model and load the checkpoint into it\n",
    "modelCNN = ConvNet(num_classes = 2)\n",
    "modelCNN.load_state_dict(checkpointCNN)\n",
    "modelCNN.to(device)\n",
    "modelCNN.eval()\n",
    "\n",
    "model_path = '/fhome/gia01/vl_project2/autoencoder/model_pkl/10_EPOCH_MSE_AE.pkl'\n",
    "with open(model_path, 'rb') as weights:\n",
    "    state = pickle.load(weights)\n",
    "    modelAE = AutoEncoderHPyloris()\n",
    "    modelAE.load_state_dict(state)\n",
    "modelAE.to(device)    \n",
    "\n",
    "checkpoint = torch.load(\"best_checkpoint.modelVGG\") # Load checkpoint\n",
    "\n",
    "modelVGG = models.vgg16(pretrained=True)\n",
    "modelVGG.classifier[6] = torch.nn.Linear(in_features=4096, out_features=2)\n",
    "modelVGG.load_state_dict(checkpoint) # Load checkpoint into the model\n",
    "modelVGG.to(device)\n",
    "modelVGG.eval() # Set model to evaluation mode\n"
   ]
  },
  {
   "cell_type": "code",
   "execution_count": 11,
   "metadata": {},
   "outputs": [],
   "source": [
    "# Define data augmentation transforms\n",
    "myTransforms = transforms.Compose([ transforms.Resize((224,224)), # Resize the image to 224x224\n",
    "                                    transforms.ToTensor(),       # Convert the image to a tensor\n",
    "                                    transforms.Normalize(mean=[0.485, 0.456, 0.406], std=[0.229, 0.224, 0.225]), # Normalize the image\n",
    "])"
   ]
  },
  {
   "cell_type": "markdown",
   "metadata": {},
   "source": [
    "Optimal thresholds"
   ]
  },
  {
   "cell_type": "code",
   "execution_count": 12,
   "metadata": {},
   "outputs": [],
   "source": [
    "CNN_threshold = 3 # CNN threshold\n",
    "AE_threshold = 7 # AE threshold\n",
    "VGG_threshold = 7 # VGG threshold"
   ]
  },
  {
   "cell_type": "markdown",
   "metadata": {},
   "source": [
    "Prediction function"
   ]
  },
  {
   "cell_type": "code",
   "execution_count": 13,
   "metadata": {},
   "outputs": [],
   "source": [
    "def prediction(img_path, myTransforms, model):\n",
    "    # Load the image\n",
    "    image = Image.open(img_path)\n",
    "\n",
    "    # Convert RGBA to RGB if necessary\n",
    "    if image.mode == 'RGBA':\n",
    "        image = image.convert('RGB')\n",
    "\n",
    "    # Apply the transformations\n",
    "    image_tensor = myTransforms(image).unsqueeze(0)  # Add batch dimension\n",
    "\n",
    "    # Move the model and tensor to the same device\n",
    "    device = next(model.parameters()).device  # Get the device from the model\n",
    "    image_tensor = image_tensor.to(device)\n",
    "\n",
    "    # Forward pass through the model to get the predictions\n",
    "    output = model(image_tensor)\n",
    "\n",
    "    # Move the output back to CPU and convert to numpy array for further processing\n",
    "    output = output.cpu().data.numpy()\n",
    "\n",
    "    # Get the index of the highest probability class\n",
    "    index = output.argmax()\n",
    "\n",
    "    return index\n"
   ]
  },
  {
   "cell_type": "code",
   "execution_count": 14,
   "metadata": {},
   "outputs": [],
   "source": [
    "# Declaration of the function in order to make the conversion\n",
    "def calculate_confidence(percentage, threshold):\n",
    "    \"\"\"\n",
    "    Calculate the confidence level based on a given percentage using a rule of three.\n",
    "\n",
    "    Parameters:\n",
    "    percentage (float): A percentage value where 0.1 maps to a confidence level of 1.\n",
    "\n",
    "    Returns:\n",
    "    float: The calculated confidence level, capped at 1 for percentages over 0.1.\n",
    "    \"\"\"\n",
    "    # If the percentage is greater than 0.1, the confidence is 1\n",
    "    if percentage >= threshold:\n",
    "        return 1\n",
    "    else:\n",
    "        # Otherwise, scale the confidence linearly from 0 to 1 as the percentage goes from 0 to 0.1\n",
    "        # Using the rule of three: percentage / 0.1 = confidence / 1\n",
    "        confidence = percentage / threshold\n",
    "        return confidence"
   ]
  },
  {
   "cell_type": "markdown",
   "metadata": {},
   "source": [
    "Predictions"
   ]
  },
  {
   "cell_type": "code",
   "execution_count": 23,
   "metadata": {},
   "outputs": [
    {
     "name": "stdout",
     "output_type": "stream",
     "text": [
      "Patient 1: for CNN  | 1 - 1\n",
      "Patient 1: for AE   | 1 - 0.038\n",
      "Patient 1: for VGG  | 1 - 1\n",
      "\n",
      "Patient 2: for CNN  | 1 - 1\n",
      "Patient 2: for AE   | 1 - 0.0\n",
      "Patient 2: for VGG  | 1 - 1\n",
      "\n",
      "Patient 3: for CNN  | 1 - 1\n",
      "Patient 3: for AE   | 1 - 0.03\n",
      "Patient 3: for VGG  | 1 - 1\n",
      "\n",
      "Patient 4: for CNN  | 1 - 1\n",
      "Patient 4: for AE   | 1 - 0.015\n",
      "Patient 4: for VGG  | 1 - 1\n",
      "\n",
      "Patient 5: for CNN  | 1 - 1\n",
      "Patient 5: for AE   | 1 - 0.0\n",
      "Patient 5: for VGG  | 1 - 1\n",
      "\n",
      "Patient 6: for CNN  | 0 - 0.055\n",
      "Patient 6: for AE   | 0 - 0.0\n",
      "Patient 6: for VGG  | 0 - 0.213\n",
      "\n",
      "Patient 7: for CNN  | 0 - 0.325\n",
      "Patient 7: for AE   | 0 - 0.0\n",
      "Patient 7: for VGG  | 0 - 0.41\n",
      "\n",
      "Patient 8: for CNN  | 0 - 0.07\n",
      "Patient 8: for AE   | 0 - 0.0\n",
      "Patient 8: for VGG  | 0 - 0.127\n",
      "\n",
      "Patient 9: for CNN  | 0 - 0.659\n",
      "Patient 9: for AE   | 0 - 0.0\n",
      "Patient 9: for VGG  | 0 - 0.242\n",
      "\n",
      "Patient 10: for CNN  | 0 - 0.221\n",
      "Patient 10: for AE   | 0 - 0.0\n",
      "Patient 10: for VGG  | 0 - 0.261\n",
      "\n"
     ]
    }
   ],
   "source": [
    "y_scoresCNN = list() # Store the probability estimates of being from the infected class, threshold: %3\n",
    "y_scoresAE = list() # Store the probability estimates of being from the infected class, threshold: %int()\n",
    "y_scoresVGG = list() # Store the probability estimates of being from the infected class, threshold: %int()\n",
    "\n",
    "infectedPer_listCNN = list() # Store the infected percentage for each patient\n",
    "infectedPer_listAE = list() # Store the infected percentage for each patient\n",
    "infectedPer_listVGG = list() # Store the infected percentage for each patient\n",
    "\n",
    "y_test = list() # Store the ground truth from the data, infected or not infected\n",
    "\n",
    "i = 0 # Counter\n",
    "\n",
    "# Iterate over the test set\n",
    "for label in train_dict:\n",
    "\n",
    "    patients_dict = train_dict[label] # Get the dictionary of the patients\n",
    "\n",
    "    # Determine ground truth\n",
    "    if (label == \"INFECTED\"): # Infected\n",
    "        gt = 1\n",
    "    \n",
    "    else: # Not infected\n",
    "        gt = 0\n",
    "\n",
    "    # Iterate over the patients\n",
    "    for patient in patients_dict:\n",
    "\n",
    "        patient_predictionsCNN = list() # Initialize the data structure in which the prediction for a particular patient will be stored\n",
    "        patient_predictionsAE = list() # Initialize the data structure in which the prediction for a particular patient will be stored\n",
    "        patient_predictionsVGG = list() # Initialize the data structure in which the prediction for a particular patient will be stored\n",
    "        # Get a list of all the full paths for the images from the patient\n",
    "        images_files_full_paths = [os.path.join(patients_dict[patient], file) for file in os.listdir(patients_dict[patient])]\n",
    "        \n",
    "        # Iterate over all the images of the patient\n",
    "        for image_path in images_files_full_paths:\n",
    "\n",
    "            predCNN = prediction(image_path, myTransforms, modelCNN) # Get the prediction for the patch\n",
    "            patient_predictionsCNN.append(predCNN) # Append the prediction\n",
    "\n",
    "            imageAE = Image.open(image_path) # Open image with PIL\n",
    "            predAE = predict_patch(modelAE, imageAE, transform = myTransforms, inverse_transform = inverse_transform, threshold=0.25, device='cpu') # Get the prediction for the patch\n",
    "            patient_predictionsAE.append(predAE) # Append the prediction\n",
    "\n",
    "            predVGG = prediction(image_path, myTransforms, modelVGG) # Get the prediction for the patch\n",
    "            patient_predictionsVGG.append(predVGG) # Append the prediction\n",
    "\n",
    "        value = 1 # Infected class\n",
    "\n",
    "        # Calculate the percentage of infected detected patches for a particular patient\n",
    "        infected_percentageCNN = patient_predictionsCNN.count(value) / len(patient_predictionsCNN)\n",
    "        infectedPer_listCNN.append(infected_percentageCNN)\n",
    "\n",
    "        # Calculate the percentage of infected detected patches for a particular patient\n",
    "        infected_percentageAE = patient_predictionsAE.count(value) / len(patient_predictionsAE)\n",
    "        infectedPer_listAE.append(infected_percentageAE)\n",
    "\n",
    "        # Calculate the percentage of infected detected patches for a particular patient\n",
    "        infected_percentageVGG = patient_predictionsVGG.count(value) / len(patient_predictionsVGG)\n",
    "        infectedPer_listVGG.append(infected_percentageVGG)\n",
    "\n",
    "        # Calculate the estimated probability of the model based on predefined criterion for the diagnosis\n",
    "        # += threshold of infected patches in a patient - estimated probability of infection: 100%\n",
    "        # 0% of infected patches in a patient - estimated probability of infection: 0%\n",
    "        y_scoreCNN = calculate_confidence(infected_percentageCNN, 0.03) # Threshold: %3\n",
    "        y_scoreAE = calculate_confidence(infected_percentageAE, 0.07) # Threshold: %\n",
    "        y_scoreVGG = calculate_confidence(infected_percentageVGG, 0.07) # Threshold: %\n",
    "        \n",
    "        \n",
    "        # Update y_score and y_test lists\n",
    "        y_scoresCNN.append(y_scoreCNN)\n",
    "        y_scoresAE.append(y_scoreAE)\n",
    "        y_scoresVGG.append(y_scoreVGG)\n",
    "\n",
    "        y_test.append(gt) # Ground truth\n",
    "\n",
    "        i += 1\n",
    "        print(\"Patient\", str(i) + \":\", \"for CNN  |\", gt, \"-\", round(y_scoreCNN, 3))\n",
    "        print(\"Patient\", str(i) + \":\", \"for AE   |\", gt, \"-\", round(y_scoreAE, 3))\n",
    "        print(\"Patient\", str(i) + \":\", \"for VGG  |\", gt, \"-\", round(y_scoreVGG, 3))\n",
    "        print()\n",
    "        \n",
    "        # print(y_scores) # Display scores\n",
    "        # print(y_test) # Display ground truth\n",
    "\n",
    "        # Update control data structure\n",
    "        # CNN_predictions.append((str(patient), [gt, y_score]))"
   ]
  },
  {
   "cell_type": "code",
   "execution_count": 26,
   "metadata": {},
   "outputs": [],
   "source": [
    "binary_labelsCNN = [1 if prob >= 0.5 else 0 for prob in y_scoresCNN] # Threshold: %3\n",
    "binary_labelsAE = [1 if prob >= 0.5 else 0 for prob in y_scoresAE] # Threshold: %int()\n",
    "binary_labelsVGG = [1 if prob >= 0.5 else 0 for prob in y_scoresVGG] # Threshold: %int()"
   ]
  },
  {
   "cell_type": "code",
   "execution_count": 27,
   "metadata": {},
   "outputs": [
    {
     "data": {
      "image/png": "[encoded data removed]",
      "text/plain": [
       "<Figure size 864x288 with 3 Axes>"
      ]
     },
     "metadata": {
      "needs_background": "light"
     },
     "output_type": "display_data"
    }
   ],
   "source": [
    "# Assuming you have binary_labels0025, binary_labels0035, binary_labels004, binary_labels005, etc. already defined\n",
    "# Define the thresholds for each binary label\n",
    "thresholds = ['%3', \"%7\", \"%7\"]\n",
    "# Store all the binary labels in a list\n",
    "binary_labels_list = [binary_labelsCNN, binary_labelsAE, binary_labelsVGG]\n",
    "# In order to store the true negative, false positive, false negative and true positive\n",
    "ravels = list()\n",
    "\n",
    "# Set the number of subplots based on the number of thresholds\n",
    "n_cols = 3\n",
    "n_rows = int(np.ceil(len(thresholds) / n_cols))\n",
    "\n",
    "# Create a figure to hold all the subplots\n",
    "fig, axes = plt.subplots(nrows=n_rows, ncols=n_cols, figsize=(n_cols * 4, n_rows * 4))\n",
    "\n",
    "# Flatten the axes array for easy iteration\n",
    "axes = axes.flatten()\n",
    "\n",
    "# Loop through the thresholds and plot each confusion matrix\n",
    "for i, threshold in enumerate(thresholds):\n",
    "    # Compute confusion matrix\n",
    "    cm = confusion_matrix(y_test, binary_labels_list[i])\n",
    "    # Unpack the confusion matrix into true negative, false positive, false negative and true positive\n",
    "    true_neg, false_pos, false_neg, true_pos = cm.ravel()\n",
    "    # Store the ravel in a list\n",
    "    ravel = [true_neg, false_pos, false_neg, true_pos]\n",
    "    ravels.append(ravel)\n",
    "    \n",
    "    # Initialize the display object\n",
    "    disp = ConfusionMatrixDisplay(confusion_matrix=cm, display_labels=[\"0\", \"1\"])\n",
    "\n",
    "    # Plot in the next subplot\n",
    "    disp.plot(ax=axes[i], cmap='Blues', colorbar=False)\n",
    "    axes[i].set_title(f'Confusion matrix (Threshold: {threshold})')\n",
    "\n",
    "# Hide any unused subplots\n",
    "for ax in axes[len(thresholds):]:\n",
    "    ax.axis('off')\n",
    "\n",
    "# Adjust layout to prevent overlap\n",
    "plt.tight_layout()\n",
    "\n",
    "# Add more space between the plots\n",
    "plt.subplots_adjust(wspace=0.4, hspace=0.6)\n",
    "\n",
    "# Show the plot\n",
    "plt.show()"
   ]
  },
  {
   "cell_type": "markdown",
   "metadata": {},
   "source": [
    "# Stacked generalization\n",
    "\n",
    "Ensemble learning technique that uses a meta-learner to find the optimal combination of the base learners."
   ]
  },
  {
   "cell_type": "code",
   "execution_count": 28,
   "metadata": {},
   "outputs": [],
   "source": [
    "models = [modelCNN, modelAE, modelVGG] # List of all the methods used for the ensemble learning"
   ]
  },
  {
   "cell_type": "code",
   "execution_count": 50,
   "metadata": {},
   "outputs": [],
   "source": [
    "# Stack the predictions to create a new dataset for the meta-learner\n",
    "stacked_predictions = np.column_stack((binary_labelsCNN, binary_labelsAE, binary_labelsVGG))\n",
    "\n",
    "# Train the meta-learner on the stacked predictions\n",
    "meta_learner = LogisticRegression().fit(stacked_predictions, y_test)"
   ]
  },
  {
   "cell_type": "code",
   "execution_count": 51,
   "metadata": {},
   "outputs": [
    {
     "name": "stdout",
     "output_type": "stream",
     "text": [
      "Weights for CNN model predictions: 0.9086479260708061\n",
      "Weights for AE model predictions: 0.0\n",
      "Weights for VGG model predictions: 1.3304189826002182\n"
     ]
    }
   ],
   "source": [
    "# After fitting the meta-learner\n",
    "weights = meta_learner.coef_\n",
    "\n",
    "# Print the weights for each model\n",
    "print(f'Weights for CNN model predictions: {weights[0][0]}')\n",
    "print(f'Weights for AE model predictions: {weights[0][1]}')\n",
    "print(f'Weights for VGG model predictions: {weights[0][2]}')\n"
   ]
  },
  {
   "cell_type": "code",
   "execution_count": 41,
   "metadata": {},
   "outputs": [
    {
     "name": "stdout",
     "output_type": "stream",
     "text": [
      "Patient 1: for CNN  | 1 - 1\n",
      "Patient 1: for AE   | 1 - 0.0\n",
      "Patient 1: for VGG  | 1 - 1\n",
      "\n",
      "Patient 2: for CNN  | 1 - 0.243\n",
      "Patient 2: for AE   | 1 - 0.0\n",
      "Patient 2: for VGG  | 1 - 0.298\n",
      "\n",
      "Patient 3: for CNN  | 1 - 1\n",
      "Patient 3: for AE   | 1 - 0.0\n",
      "Patient 3: for VGG  | 1 - 1\n",
      "\n",
      "Patient 4: for CNN  | 1 - 1\n",
      "Patient 4: for AE   | 1 - 0.0\n",
      "Patient 4: for VGG  | 1 - 1\n",
      "\n",
      "Patient 5: for CNN  | 1 - 1\n",
      "Patient 5: for AE   | 1 - 0.0\n",
      "Patient 5: for VGG  | 1 - 1\n",
      "\n",
      "Patient 6: for CNN  | 0 - 0.369\n",
      "Patient 6: for AE   | 0 - 0.0\n",
      "Patient 6: for VGG  | 0 - 0.519\n",
      "\n",
      "Patient 7: for CNN  | 0 - 0.031\n",
      "Patient 7: for AE   | 0 - 0.0\n",
      "Patient 7: for VGG  | 0 - 0.337\n",
      "\n",
      "Patient 8: for CNN  | 0 - 0.176\n",
      "Patient 8: for AE   | 0 - 0.0\n",
      "Patient 8: for VGG  | 0 - 0.572\n",
      "\n",
      "Patient 9: for CNN  | 0 - 0.124\n",
      "Patient 9: for AE   | 0 - 0.0\n",
      "Patient 9: for VGG  | 0 - 0.168\n",
      "\n",
      "Patient 10: for CNN  | 0 - 0.346\n",
      "Patient 10: for AE   | 0 - 1\n",
      "Patient 10: for VGG  | 0 - 0.742\n",
      "\n"
     ]
    }
   ],
   "source": [
    "y_scoresCNN = list() # Store the probability estimates of being from the infected class, threshold: %3\n",
    "y_scoresAE = list() # Store the probability estimates of being from the infected class, threshold: %int()\n",
    "y_scoresVGG = list() # Store the probability estimates of being from the infected class, threshold: %int()\n",
    "\n",
    "infectedPer_listCNN = list() # Store the infected percentage for each patient\n",
    "infectedPer_listAE = list() # Store the infected percentage for each patient\n",
    "infectedPer_listVGG = list() # Store the infected percentage for each patient\n",
    "\n",
    "y_test = list() # Store the ground truth from the data, infected or not infected\n",
    "\n",
    "i = 0 # Counter\n",
    "\n",
    "# Iterate over the test set\n",
    "for label in test_dict:\n",
    "\n",
    "    patients_dict = test_dict[label] # Get the dictionary of the patients\n",
    "\n",
    "    # Determine ground truth\n",
    "    if (label == \"INFECTED\"): # Infected\n",
    "        gt = 1\n",
    "    \n",
    "    else: # Not infected\n",
    "        gt = 0\n",
    "\n",
    "    # Iterate over the patients\n",
    "    for patient in patients_dict:\n",
    "\n",
    "        patient_predictionsCNN = list() # Initialize the data structure in which the prediction for a particular patient will be stored\n",
    "        patient_predictionsAE = list() # Initialize the data structure in which the prediction for a particular patient will be stored\n",
    "        patient_predictionsVGG = list() # Initialize the data structure in which the prediction for a particular patient will be stored\n",
    "        # Get a list of all the full paths for the images from the patient\n",
    "        images_files_full_paths = [os.path.join(patients_dict[patient], file) for file in os.listdir(patients_dict[patient])]\n",
    "        \n",
    "        # Iterate over all the images of the patient\n",
    "        for image_path in images_files_full_paths:\n",
    "\n",
    "            predCNN = prediction(image_path, myTransforms, modelCNN) # Get the prediction for the patch\n",
    "            patient_predictionsCNN.append(predCNN) # Append the prediction\n",
    "\n",
    "            imageAE = Image.open(image_path) # Open image with PIL\n",
    "            predAE = predict_patch(modelAE, imageAE, transform = myTransforms, inverse_transform = inverse_transform, threshold=0.25, device='cpu') # Get the prediction for the patch\n",
    "            patient_predictionsAE.append(predAE) # Append the prediction\n",
    "\n",
    "            predVGG = prediction(image_path, myTransforms, modelVGG) # Get the prediction for the patch\n",
    "            patient_predictionsVGG.append(predVGG) # Append the prediction\n",
    "\n",
    "        value = 1 # Infected class\n",
    "\n",
    "        # Calculate the percentage of infected detected patches for a particular patient\n",
    "        infected_percentageCNN = patient_predictionsCNN.count(value) / len(patient_predictionsCNN)\n",
    "        infectedPer_listCNN.append(infected_percentageCNN)\n",
    "\n",
    "        # Calculate the percentage of infected detected patches for a particular patient\n",
    "        infected_percentageAE = patient_predictionsAE.count(value) / len(patient_predictionsAE)\n",
    "        infectedPer_listAE.append(infected_percentageAE)\n",
    "\n",
    "        # Calculate the percentage of infected detected patches for a particular patient\n",
    "        infected_percentageVGG = patient_predictionsVGG.count(value) / len(patient_predictionsVGG)\n",
    "        infectedPer_listVGG.append(infected_percentageVGG)\n",
    "\n",
    "        # Calculate the estimated probability of the model based on predefined criterion for the diagnosis\n",
    "        # += threshold of infected patches in a patient - estimated probability of infection: 100%\n",
    "        # 0% of infected patches in a patient - estimated probability of infection: 0%\n",
    "        y_scoreCNN = calculate_confidence(infected_percentageCNN, 0.03) # Threshold: %3\n",
    "        y_scoreAE = calculate_confidence(infected_percentageAE, 0.0007) # Threshold: %\n",
    "        y_scoreVGG = calculate_confidence(infected_percentageVGG, 0.07) # Threshold: %\n",
    "        \n",
    "        \n",
    "        # Update y_score and y_test lists\n",
    "        y_scoresCNN.append(y_scoreCNN)\n",
    "        y_scoresAE.append(y_scoreAE)\n",
    "        y_scoresVGG.append(y_scoreVGG)\n",
    "\n",
    "        y_test.append(gt) # Ground truth\n",
    "\n",
    "        i += 1\n",
    "        print(\"Patient\", str(i) + \":\", \"for CNN  |\", gt, \"-\", round(y_scoreCNN, 3))\n",
    "        print(\"Patient\", str(i) + \":\", \"for AE   |\", gt, \"-\", round(y_scoreAE, 3))\n",
    "        print(\"Patient\", str(i) + \":\", \"for VGG  |\", gt, \"-\", round(y_scoreVGG, 3))\n",
    "        print()\n",
    "        \n",
    "        # print(y_scores) # Display scores\n",
    "        # print(y_test) # Display ground truth\n",
    "\n",
    "        # Update control data structure\n",
    "        # CNN_predictions.append((str(patient), [gt, y_score]))"
   ]
  },
  {
   "cell_type": "code",
   "execution_count": 42,
   "metadata": {},
   "outputs": [
    {
     "data": {
      "image/png": "[encoded data removed]",
      "text/plain": [
       "<Figure size 864x288 with 3 Axes>"
      ]
     },
     "metadata": {
      "needs_background": "light"
     },
     "output_type": "display_data"
    }
   ],
   "source": [
    "testBinary_labelsCNN = [1 if prob >= 0.5 else 0 for prob in y_scoresCNN] # Threshold: %3\n",
    "testBinary_labelsAE = [1 if prob >= 0.5 else 0 for prob in y_scoresAE] # Threshold: %int()\n",
    "testBinary_labelsVGG = [1 if prob >= 0.5 else 0 for prob in y_scoresVGG] # Threshold: %int()\n",
    "\n",
    "# Assuming you have binary_labels0025, binary_labels0035, binary_labels004, binary_labels005, etc. already defined\n",
    "# Define the thresholds for each binary label\n",
    "thresholds = ['%3', int(), int()]\n",
    "# Store all the binary labels in a list\n",
    "binary_labels_list = [testBinary_labelsCNN, testBinary_labelsAE, testBinary_labelsVGG]\n",
    "# In order to store the true negative, false positive, false negative and true positive\n",
    "ravels = list()\n",
    "\n",
    "# Set the number of subplots based on the number of thresholds\n",
    "n_cols = 3\n",
    "n_rows = int(np.ceil(len(thresholds) / n_cols))\n",
    "\n",
    "# Create a figure to hold all the subplots\n",
    "fig, axes = plt.subplots(nrows=n_rows, ncols=n_cols, figsize=(n_cols * 4, n_rows * 4))\n",
    "\n",
    "# Flatten the axes array for easy iteration\n",
    "axes = axes.flatten()\n",
    "\n",
    "# Loop through the thresholds and plot each confusion matrix\n",
    "for i, threshold in enumerate(thresholds):\n",
    "    # Compute confusion matrix\n",
    "    cm = confusion_matrix(y_test, binary_labels_list[i])\n",
    "    # Unpack the confusion matrix into true negative, false positive, false negative and true positive\n",
    "    true_neg, false_pos, false_neg, true_pos = cm.ravel()\n",
    "    # Store the ravel in a list\n",
    "    ravel = [true_neg, false_pos, false_neg, true_pos]\n",
    "    ravels.append(ravel)\n",
    "    \n",
    "    # Initialize the display object\n",
    "    disp = ConfusionMatrixDisplay(confusion_matrix=cm, display_labels=[\"0\", \"1\"])\n",
    "\n",
    "    # Plot in the next subplot\n",
    "    disp.plot(ax=axes[i], cmap='Blues', colorbar=False)\n",
    "    axes[i].set_title(f'Confusion matrix (Threshold: {threshold})')\n",
    "\n",
    "# Hide any unused subplots\n",
    "for ax in axes[len(thresholds):]:\n",
    "    ax.axis('off')\n",
    "\n",
    "# Adjust layout to prevent overlap\n",
    "plt.tight_layout()\n",
    "\n",
    "# Add more space between the plots\n",
    "plt.subplots_adjust(wspace=0.4, hspace=0.6)\n",
    "\n",
    "# Show the plot\n",
    "plt.show()"
   ]
  },
  {
   "cell_type": "code",
   "execution_count": 43,
   "metadata": {},
   "outputs": [],
   "source": [
    "from sklearn.metrics import accuracy_score, classification_report, confusion_matrix\n",
    "\n",
    "# Predict on the test set with the meta-learner\n",
    "test_stacked_predictions = np.column_stack((testBinary_labelsCNN, testBinary_labelsAE, testBinary_labelsVGG))\n",
    "\n",
    "# Predict on the test set with the meta-learner\n",
    "meta_predictions = meta_learner.predict(stacked_predictions)"
   ]
  },
  {
   "cell_type": "code",
   "execution_count": 49,
   "metadata": {},
   "outputs": [
    {
     "name": "stdout",
     "output_type": "stream",
     "text": [
      "[[0.26607615 0.73392385]\n",
      " [0.26607615 0.73392385]\n",
      " [0.26607615 0.73392385]\n",
      " [0.26607615 0.73392385]\n",
      " [0.26607615 0.73392385]\n",
      " [0.7728447  0.2271553 ]\n",
      " [0.7728447  0.2271553 ]\n",
      " [0.7728447  0.2271553 ]\n",
      " [0.57829943 0.42170057]\n",
      " [0.7728447  0.2271553 ]]\n"
     ]
    }
   ],
   "source": [
    "# Predicted probabilities for the test data\n",
    "predicted_probabilities_test = meta_learner.predict_proba(stacked_predictions)\n",
    "\n",
    "# Print the predicted probabilities for the test data\n",
    "print(predicted_probabilities_test)"
   ]
  },
  {
   "cell_type": "code",
   "execution_count": 48,
   "metadata": {},
   "outputs": [
    {
     "name": "stdout",
     "output_type": "stream",
     "text": [
      "<bound method LogisticRegression.predict_proba of LogisticRegression()>\n"
     ]
    }
   ],
   "source": [
    "print(meta_learner.predict_proba)"
   ]
  },
  {
   "cell_type": "markdown",
   "metadata": {},
   "source": [
    "**Visualization in 3D**"
   ]
  },
  {
   "cell_type": "code",
   "execution_count": null,
   "metadata": {},
   "outputs": [],
   "source": [
    "\"\"\"\"\"\"\"\"\"\"\"\n",
    "#Visualize en 3D\n",
    "from sklearn.decomposition import PCA\n",
    "from sklearn.manifold import TSNE\n",
    "import seaborn as sns\n",
    "import matplotlib.pyplot as plt\n",
    "import pandas as pd\n",
    "import numpy as np\n",
    "\n",
    "# Create a dataframe with the meta-learner predictions\n",
    "df = pd.DataFrame(stacked_predictions, columns=['CNN', 'AE', 'VGG'])\n",
    "# Add the ground truth\n",
    "df['Ground Truth'] = y_test\n",
    "# Add the meta-learner predictions\n",
    "df['Meta Learner'] = meta_predictions\n",
    "\n",
    "# Create a PCA object\n",
    "pca = PCA(n_components=3)\n",
    "# Fit the PCA and transform the data\n",
    "pca_features = pca.fit_transform(df[['CNN', 'AE', 'VGG']])\n",
    "# Add the components to the dataframe\n",
    "df['PCA1'] = pca_features[:, 0]\n",
    "df['PCA2'] = pca_features[:, 1]\n",
    "df['PCA3'] = pca_features[:, 2]\n",
    "\n",
    "# Create a TSNE object\n",
    "tsne = TSNE(n_components=3)\n",
    "# Fit the TSNE and transform the data\n",
    "tsne_features = tsne.fit_transform(df[['CNN', 'AE', 'VGG']])\n",
    "# Add the components to the dataframe\n",
    "df['TSNE1'] = tsne_features[:, 0]\n",
    "df['TSNE2'] = tsne_features[:, 1]\n",
    "df['TSNE3'] = tsne_features[:, 2]\n",
    "\n",
    "# Create a scatter plot of the PCA features\n",
    "plt.figure(figsize=(10, 10))\n",
    "sns.scatterplot(data=df, x='PCA1', y='PCA2', hue='Ground Truth', style='Meta Learner', palette='Set2')\n",
    "plt.title('PCA')\n",
    "plt.show()\n",
    "\n",
    "# Create a scatter plot of the TSNE features\n",
    "plt.figure(figsize=(10, 10))\n",
    "sns.scatterplot(data=df, x='TSNE1', y='TSNE2', hue='Ground Truth', style='Meta Learner', palette='Set2')\n",
    "plt.title('TSNE')\n",
    "plt.show()\n",
    "\"\"\"\"\"\"\"\"\n"
   ]
  },
  {
   "cell_type": "markdown",
   "metadata": {},
   "source": [
    "# Metrics for the aggregation function"
   ]
  },
  {
   "cell_type": "markdown",
   "metadata": {},
   "source": [
    "Confusion matrix and classification report"
   ]
  },
  {
   "cell_type": "code",
   "execution_count": 44,
   "metadata": {},
   "outputs": [
    {
     "data": {
      "image/png": "[encoded data removed]",
      "text/plain": [
       "<Figure size 432x288 with 1 Axes>"
      ]
     },
     "metadata": {
      "needs_background": "light"
     },
     "output_type": "display_data"
    }
   ],
   "source": [
    "from sklearn.metrics import ConfusionMatrixDisplay\n",
    "\n",
    "# Display the confusion matrix\n",
    "disp = ConfusionMatrixDisplay(confusion_matrix=conf_matrix, display_labels=[\"0\", \"1\"])\n",
    "disp.plot(cmap='Blues', colorbar=False)\n",
    "plt.title('Confusion Matrix of the Stacking Generalization')\n",
    "plt.show()\n"
   ]
  }
 ],
 "metadata": {
  "kernelspec": {
   "display_name": "base",
   "language": "python",
   "name": "python3"
  },
  "language_info": {
   "codemirror_mode": {
    "name": "ipython",
    "version": 3
   },
   "file_extension": ".py",
   "mimetype": "text/x-python",
   "name": "python",
   "nbconvert_exporter": "python",
   "pygments_lexer": "ipython3",
   "version": "3.7.4"
  }
 },
 "nbformat": 4,
 "nbformat_minor": 2
}
